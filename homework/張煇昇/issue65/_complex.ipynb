{
 "cells": [
  {
   "cell_type": "code",
   "execution_count": 1,
   "metadata": {},
   "outputs": [
    {
     "data": {
      "text/plain": [
       "[{'name': 'robert', 'chi': 78, 'eng': 22},\n",
       " {'name': 'robert', 'chi': 78, 'eng': 22},\n",
       " {'name': 'robert', 'chi': 78, 'eng': 22}]"
      ]
     },
     "execution_count": 1,
     "metadata": {},
     "output_type": "execute_result"
    }
   ],
   "source": [
    "students:list[dict]=[\n",
    "   {'name':'robert','chi':78,'eng':22},\n",
    "   {'name':'robert','chi':78,'eng':22},\n",
    "   {'name':'robert','chi':78,'eng':22}\n",
    "]\n",
    "students"
   ]
  }
 ],
 "metadata": {
  "kernelspec": {
   "display_name": "venv1",
   "language": "python",
   "name": "python3"
  },
  "language_info": {
   "codemirror_mode": {
    "name": "ipython",
    "version": 3
   },
   "file_extension": ".py",
   "mimetype": "text/x-python",
   "name": "python",
   "nbconvert_exporter": "python",
   "pygments_lexer": "ipython3",
   "version": "3.10.14"
  }
 },
 "nbformat": 4,
 "nbformat_minor": 2
}
