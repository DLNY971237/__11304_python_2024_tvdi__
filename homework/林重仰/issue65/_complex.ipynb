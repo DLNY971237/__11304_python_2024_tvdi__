{
 "cells": [
  {
   "cell_type": "code",
   "execution_count": 1,
   "metadata": {},
   "outputs": [
    {
     "data": {
      "text/plain": [
       "[['Danny', 78, 92, 65], ['John', 68, 82, 75], ['Roy', 98, 62, 55]]"
      ]
     },
     "execution_count": 1,
     "metadata": {},
     "output_type": "execute_result"
    }
   ],
   "source": [
    "students:list[list] = [\n",
    "                        ['Danny',78,92,65],\n",
    "                        ['John',68,82,75],\n",
    "                        ['Roy',98,62,55]\n",
    "]\n",
    "\n",
    "students"
   ]
  },
  {
   "cell_type": "code",
   "execution_count": 3,
   "metadata": {},
   "outputs": [
    {
     "data": {
      "text/plain": [
       "[{'name': 'Danny', 'chinese': 78, 'english': 92, 'math': 65},\n",
       " {'name': 'John', 'chinese': 78, 'english': 92, 'math': 65},\n",
       " {'name': 'Roy', 'chinese': 78, 'english': 92, 'math': 65}]"
      ]
     },
     "execution_count": 3,
     "metadata": {},
     "output_type": "execute_result"
    }
   ],
   "source": [
    "students:list[dict]= [\n",
    "    {'name':'Danny','chinese':78,'english':92,'math':65},\n",
    "    {'name':'John','chinese':78,'english':92,'math':65},\n",
    "    {'name':'Roy','chinese':78,'english':92,'math':65}\n",
    "]\n",
    "students"
   ]
  }
 ],
 "metadata": {
  "kernelspec": {
   "display_name": "venv1",
   "language": "python",
   "name": "python3"
  },
  "language_info": {
   "codemirror_mode": {
    "name": "ipython",
    "version": 3
   },
   "file_extension": ".py",
   "mimetype": "text/x-python",
   "name": "python",
   "nbconvert_exporter": "python",
   "pygments_lexer": "ipython3",
   "version": "3.10.14"
  }
 },
 "nbformat": 4,
 "nbformat_minor": 2
}
